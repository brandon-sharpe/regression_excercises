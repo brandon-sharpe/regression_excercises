{
 "cells": [
  {
   "cell_type": "code",
   "execution_count": 1,
   "id": "c5252e98",
   "metadata": {},
   "outputs": [],
   "source": [
    "import pandas as pd\n",
    "import numpy as np\n",
    "from pydataset import data\n",
    "import seaborn as sns\n",
    "import matplotlib.pyplot as plt\n",
    "from sklearn.linear_model import LinearRegression\n",
    "sns.set_theme(style=\"dark\")"
   ]
  },
  {
   "cell_type": "markdown",
   "id": "bfefe934",
   "metadata": {},
   "source": [
    "## 1) Load the tips dataset from either pydataset or seaborn."
   ]
  },
  {
   "cell_type": "code",
   "execution_count": 2,
   "id": "8168526f",
   "metadata": {},
   "outputs": [],
   "source": [
    "df = data('tips')"
   ]
  },
  {
   "cell_type": "code",
   "execution_count": 3,
   "id": "ee0edd87",
   "metadata": {},
   "outputs": [
    {
     "data": {
      "text/plain": [
       "(244, 7)"
      ]
     },
     "execution_count": 3,
     "metadata": {},
     "output_type": "execute_result"
    }
   ],
   "source": [
    "df.shape"
   ]
  },
  {
   "cell_type": "code",
   "execution_count": 4,
   "id": "33551913",
   "metadata": {},
   "outputs": [
    {
     "data": {
      "text/html": [
       "<div>\n",
       "<style scoped>\n",
       "    .dataframe tbody tr th:only-of-type {\n",
       "        vertical-align: middle;\n",
       "    }\n",
       "\n",
       "    .dataframe tbody tr th {\n",
       "        vertical-align: top;\n",
       "    }\n",
       "\n",
       "    .dataframe thead th {\n",
       "        text-align: right;\n",
       "    }\n",
       "</style>\n",
       "<table border=\"1\" class=\"dataframe\">\n",
       "  <thead>\n",
       "    <tr style=\"text-align: right;\">\n",
       "      <th></th>\n",
       "      <th>total_bill</th>\n",
       "      <th>tip</th>\n",
       "      <th>sex</th>\n",
       "      <th>smoker</th>\n",
       "      <th>day</th>\n",
       "      <th>time</th>\n",
       "      <th>size</th>\n",
       "    </tr>\n",
       "  </thead>\n",
       "  <tbody>\n",
       "    <tr>\n",
       "      <th>1</th>\n",
       "      <td>16.99</td>\n",
       "      <td>1.01</td>\n",
       "      <td>Female</td>\n",
       "      <td>No</td>\n",
       "      <td>Sun</td>\n",
       "      <td>Dinner</td>\n",
       "      <td>2</td>\n",
       "    </tr>\n",
       "    <tr>\n",
       "      <th>2</th>\n",
       "      <td>10.34</td>\n",
       "      <td>1.66</td>\n",
       "      <td>Male</td>\n",
       "      <td>No</td>\n",
       "      <td>Sun</td>\n",
       "      <td>Dinner</td>\n",
       "      <td>3</td>\n",
       "    </tr>\n",
       "    <tr>\n",
       "      <th>3</th>\n",
       "      <td>21.01</td>\n",
       "      <td>3.50</td>\n",
       "      <td>Male</td>\n",
       "      <td>No</td>\n",
       "      <td>Sun</td>\n",
       "      <td>Dinner</td>\n",
       "      <td>3</td>\n",
       "    </tr>\n",
       "    <tr>\n",
       "      <th>4</th>\n",
       "      <td>23.68</td>\n",
       "      <td>3.31</td>\n",
       "      <td>Male</td>\n",
       "      <td>No</td>\n",
       "      <td>Sun</td>\n",
       "      <td>Dinner</td>\n",
       "      <td>2</td>\n",
       "    </tr>\n",
       "    <tr>\n",
       "      <th>5</th>\n",
       "      <td>24.59</td>\n",
       "      <td>3.61</td>\n",
       "      <td>Female</td>\n",
       "      <td>No</td>\n",
       "      <td>Sun</td>\n",
       "      <td>Dinner</td>\n",
       "      <td>4</td>\n",
       "    </tr>\n",
       "  </tbody>\n",
       "</table>\n",
       "</div>"
      ],
      "text/plain": [
       "   total_bill   tip     sex smoker  day    time  size\n",
       "1       16.99  1.01  Female     No  Sun  Dinner     2\n",
       "2       10.34  1.66    Male     No  Sun  Dinner     3\n",
       "3       21.01  3.50    Male     No  Sun  Dinner     3\n",
       "4       23.68  3.31    Male     No  Sun  Dinner     2\n",
       "5       24.59  3.61  Female     No  Sun  Dinner     4"
      ]
     },
     "execution_count": 4,
     "metadata": {},
     "output_type": "execute_result"
    }
   ],
   "source": [
    "df.head()"
   ]
  },
  {
   "cell_type": "markdown",
   "id": "3a3eb4c1",
   "metadata": {},
   "source": [
    "## 2) Fit a linear regression model (ordinary least squares) and compute yhat, predictions of tip using total_bill."
   ]
  },
  {
   "cell_type": "code",
   "execution_count": 5,
   "id": "69a485ba",
   "metadata": {},
   "outputs": [
    {
     "data": {
      "text/html": [
       "<div>\n",
       "<style scoped>\n",
       "    .dataframe tbody tr th:only-of-type {\n",
       "        vertical-align: middle;\n",
       "    }\n",
       "\n",
       "    .dataframe tbody tr th {\n",
       "        vertical-align: top;\n",
       "    }\n",
       "\n",
       "    .dataframe thead th {\n",
       "        text-align: right;\n",
       "    }\n",
       "</style>\n",
       "<table border=\"1\" class=\"dataframe\">\n",
       "  <thead>\n",
       "    <tr style=\"text-align: right;\">\n",
       "      <th></th>\n",
       "      <th>total_bill</th>\n",
       "      <th>tip</th>\n",
       "      <th>sex</th>\n",
       "      <th>smoker</th>\n",
       "      <th>day</th>\n",
       "      <th>time</th>\n",
       "      <th>size</th>\n",
       "      <th>yhat_baseline</th>\n",
       "      <th>yhat</th>\n",
       "    </tr>\n",
       "  </thead>\n",
       "  <tbody>\n",
       "    <tr>\n",
       "      <th>1</th>\n",
       "      <td>16.99</td>\n",
       "      <td>1.01</td>\n",
       "      <td>Female</td>\n",
       "      <td>No</td>\n",
       "      <td>Sun</td>\n",
       "      <td>Dinner</td>\n",
       "      <td>2</td>\n",
       "      <td>2.998279</td>\n",
       "      <td>2.704636</td>\n",
       "    </tr>\n",
       "    <tr>\n",
       "      <th>2</th>\n",
       "      <td>10.34</td>\n",
       "      <td>1.66</td>\n",
       "      <td>Male</td>\n",
       "      <td>No</td>\n",
       "      <td>Sun</td>\n",
       "      <td>Dinner</td>\n",
       "      <td>3</td>\n",
       "      <td>2.998279</td>\n",
       "      <td>2.006223</td>\n",
       "    </tr>\n",
       "    <tr>\n",
       "      <th>3</th>\n",
       "      <td>21.01</td>\n",
       "      <td>3.50</td>\n",
       "      <td>Male</td>\n",
       "      <td>No</td>\n",
       "      <td>Sun</td>\n",
       "      <td>Dinner</td>\n",
       "      <td>3</td>\n",
       "      <td>2.998279</td>\n",
       "      <td>3.126835</td>\n",
       "    </tr>\n",
       "    <tr>\n",
       "      <th>4</th>\n",
       "      <td>23.68</td>\n",
       "      <td>3.31</td>\n",
       "      <td>Male</td>\n",
       "      <td>No</td>\n",
       "      <td>Sun</td>\n",
       "      <td>Dinner</td>\n",
       "      <td>2</td>\n",
       "      <td>2.998279</td>\n",
       "      <td>3.407250</td>\n",
       "    </tr>\n",
       "    <tr>\n",
       "      <th>5</th>\n",
       "      <td>24.59</td>\n",
       "      <td>3.61</td>\n",
       "      <td>Female</td>\n",
       "      <td>No</td>\n",
       "      <td>Sun</td>\n",
       "      <td>Dinner</td>\n",
       "      <td>4</td>\n",
       "      <td>2.998279</td>\n",
       "      <td>3.502822</td>\n",
       "    </tr>\n",
       "    <tr>\n",
       "      <th>6</th>\n",
       "      <td>25.29</td>\n",
       "      <td>4.71</td>\n",
       "      <td>Male</td>\n",
       "      <td>No</td>\n",
       "      <td>Sun</td>\n",
       "      <td>Dinner</td>\n",
       "      <td>4</td>\n",
       "      <td>2.998279</td>\n",
       "      <td>3.576340</td>\n",
       "    </tr>\n",
       "    <tr>\n",
       "      <th>7</th>\n",
       "      <td>8.77</td>\n",
       "      <td>2.00</td>\n",
       "      <td>Male</td>\n",
       "      <td>No</td>\n",
       "      <td>Sun</td>\n",
       "      <td>Dinner</td>\n",
       "      <td>2</td>\n",
       "      <td>2.998279</td>\n",
       "      <td>1.841335</td>\n",
       "    </tr>\n",
       "    <tr>\n",
       "      <th>8</th>\n",
       "      <td>26.88</td>\n",
       "      <td>3.12</td>\n",
       "      <td>Male</td>\n",
       "      <td>No</td>\n",
       "      <td>Sun</td>\n",
       "      <td>Dinner</td>\n",
       "      <td>4</td>\n",
       "      <td>2.998279</td>\n",
       "      <td>3.743329</td>\n",
       "    </tr>\n",
       "    <tr>\n",
       "      <th>9</th>\n",
       "      <td>15.04</td>\n",
       "      <td>1.96</td>\n",
       "      <td>Male</td>\n",
       "      <td>No</td>\n",
       "      <td>Sun</td>\n",
       "      <td>Dinner</td>\n",
       "      <td>2</td>\n",
       "      <td>2.998279</td>\n",
       "      <td>2.499838</td>\n",
       "    </tr>\n",
       "    <tr>\n",
       "      <th>10</th>\n",
       "      <td>14.78</td>\n",
       "      <td>3.23</td>\n",
       "      <td>Male</td>\n",
       "      <td>No</td>\n",
       "      <td>Sun</td>\n",
       "      <td>Dinner</td>\n",
       "      <td>2</td>\n",
       "      <td>2.998279</td>\n",
       "      <td>2.472532</td>\n",
       "    </tr>\n",
       "  </tbody>\n",
       "</table>\n",
       "</div>"
      ],
      "text/plain": [
       "    total_bill   tip     sex smoker  day    time  size  yhat_baseline  \\\n",
       "1        16.99  1.01  Female     No  Sun  Dinner     2       2.998279   \n",
       "2        10.34  1.66    Male     No  Sun  Dinner     3       2.998279   \n",
       "3        21.01  3.50    Male     No  Sun  Dinner     3       2.998279   \n",
       "4        23.68  3.31    Male     No  Sun  Dinner     2       2.998279   \n",
       "5        24.59  3.61  Female     No  Sun  Dinner     4       2.998279   \n",
       "6        25.29  4.71    Male     No  Sun  Dinner     4       2.998279   \n",
       "7         8.77  2.00    Male     No  Sun  Dinner     2       2.998279   \n",
       "8        26.88  3.12    Male     No  Sun  Dinner     4       2.998279   \n",
       "9        15.04  1.96    Male     No  Sun  Dinner     2       2.998279   \n",
       "10       14.78  3.23    Male     No  Sun  Dinner     2       2.998279   \n",
       "\n",
       "        yhat  \n",
       "1   2.704636  \n",
       "2   2.006223  \n",
       "3   3.126835  \n",
       "4   3.407250  \n",
       "5   3.502822  \n",
       "6   3.576340  \n",
       "7   1.841335  \n",
       "8   3.743329  \n",
       "9   2.499838  \n",
       "10  2.472532  "
      ]
     },
     "execution_count": 5,
     "metadata": {},
     "output_type": "execute_result"
    }
   ],
   "source": [
    "# Create my variables\n",
    "X = df[['total_bill']]\n",
    "y = df['tip']\n",
    "\n",
    "#create a thing\n",
    "model = LinearRegression().fit(X, y)\n",
    "predictions = model.predict(X)\n",
    "\n",
    "#add results and baseline to df  \n",
    "df['yhat_baseline'] = y.mean()\n",
    "df['yhat']= predictions\n",
    "\n",
    "\n",
    "df.head(10)"
   ]
  },
  {
   "cell_type": "markdown",
   "id": "a82bf345",
   "metadata": {},
   "source": [
    "## 3) Plot the residuals for the linear regression model that you made."
   ]
  },
  {
   "cell_type": "code",
   "execution_count": 62,
   "id": "aec9f1ff",
   "metadata": {},
   "outputs": [
    {
     "data": {
      "image/png": "[encoded data removed]",
      "text/plain": [
       "<Figure size 360x360 with 1 Axes>"
      ]
     },
     "metadata": {},
     "output_type": "display_data"
    }
   ],
   "source": [
    "ax = sns.lmplot(y=\"tip\", x=\"total_bill\", data=df, line_kws={'color': 'red'})\n",
    "ax.set( ylabel = \"Tip Amount($)\", xlabel = \"Total Bill Amount($)\")\n",
    "\n",
    "plt.show()"
   ]
  },
  {
   "cell_type": "code",
   "execution_count": 67,
   "id": "a908e078",
   "metadata": {},
   "outputs": [
    {
     "data": {
      "text/plain": [
       "[Text(0, 0.5, 'residual'), Text(0.5, 0, 'total bill($)')]"
      ]
     },
     "execution_count": 67,
     "metadata": {},
     "output_type": "execute_result"
    },
    {
     "data": {
      "image/png": "[encoded data removed]",
      "text/plain": [
       "<Figure size 432x288 with 1 Axes>"
      ]
     },
     "metadata": {},
     "output_type": "display_data"
    }
   ],
   "source": [
    "ax1 = sns.residplot(x = \"total_bill\",\n",
    "              y = \"tip\",\n",
    "              data = df)\n",
    "ax1.set( ylabel = \"residual\", xlabel = \"total bill($)\")"
   ]
  },
  {
   "cell_type": "markdown",
   "id": "82d176ec",
   "metadata": {},
   "source": [
    "## 4)  Calculate the sum of squared errors, explained sum of squares, total sum of squares, mean squared error, and root mean squared error for your model.\n",
    "\n",
    "## 5)Calculate the sum of squared errors, mean squared error, and root mean squared error for the baseline model (i.e. a model that always predicts the average tip amount)."
   ]
  },
  {
   "cell_type": "code",
   "execution_count": 8,
   "id": "b29818fd",
   "metadata": {},
   "outputs": [],
   "source": [
    "from sklearn.metrics import mean_squared_error"
   ]
  },
  {
   "cell_type": "code",
   "execution_count": 13,
   "id": "f73627c4",
   "metadata": {},
   "outputs": [
    {
     "name": "stdout",
     "output_type": "stream",
     "text": [
      "MSE $1.04\n",
      "MSE baseline $1.91\n",
      "\n",
      "SSE 252.79\n",
      "TSS 465.21\n",
      "\n",
      "RMSE $1.02\n",
      "RMSE baseline $1.38\n",
      "\n",
      "ESS 212.42\n",
      "\n",
      "R2 Score 0.45661658635167657\n"
     ]
    }
   ],
   "source": [
    "# calculate MSE2\n",
    "MSE2 = mean_squared_error(y, df.yhat)\n",
    "MSE2_baseline = mean_squared_error(y, df.yhat_baseline)\n",
    "\n",
    "print(f\"MSE ${round(MSE2, 2)}\") \n",
    "print(f\"MSE baseline ${round(MSE2_baseline, 2)}\")\n",
    "print()\n",
    "\n",
    "\n",
    "#calculate SSE\n",
    "\n",
    "SSE = MSE2 * len(df)\n",
    "TSS = MSE2_baseline * len(df)\n",
    "\n",
    "print(\"SSE\", round(SSE, 2)) \n",
    "print(\"TSS\" , round(TSS, 2))\n",
    "print()\n",
    "\n",
    "#calculate RMSE: either take square root of MSE or use sklearn (kwarg 'squared = False')\n",
    "\n",
    "RMSE2 = mean_squared_error(y, df.yhat, squared = False)\n",
    "RMSE2_baseline = mean_squared_error(y, df.yhat_baseline, squared=False)\n",
    "\n",
    "print(f\"RMSE ${round(RMSE2, 2)}\") \n",
    "print(f\"RMSE baseline ${round(RMSE2_baseline, 2)}\")\n",
    "print()\n",
    "\n",
    "ESS = TSS - SSE\n",
    "print(f\"ESS {round(ESS, 2)}\")\n",
    "print()\n",
    "\n",
    "# calculate R2 the easy way:\n",
    "\n",
    "from sklearn.metrics import r2_score\n",
    "print(f\"R2 Score {r2_score(y, df.yhat)}\")\n"
   ]
  },
  {
   "cell_type": "markdown",
   "id": "5b362aef",
   "metadata": {},
   "source": [
    "# 6) Write python code that compares the sum of squared errors for your model against the sum of squared errors for the baseline model and outputs whether or not your model performs better than the baseline model."
   ]
  },
  {
   "cell_type": "code",
   "execution_count": 15,
   "id": "093834df",
   "metadata": {},
   "outputs": [],
   "source": [
    "def SSE_compare(SSE, TSS):\n",
    "    if SSE < TSS:\n",
    "        return print('Our model performs better than the baseline')\n",
    "        \n",
    "    else:\n",
    "        print('Our model is not better than the baseline')"
   ]
  },
  {
   "cell_type": "code",
   "execution_count": 16,
   "id": "4855378a",
   "metadata": {},
   "outputs": [
    {
     "name": "stdout",
     "output_type": "stream",
     "text": [
      "Our model performs better than the baseline\n"
     ]
    }
   ],
   "source": [
    "SSE_compare(SSE, TSS)"
   ]
  },
  {
   "cell_type": "markdown",
   "id": "0935dd40",
   "metadata": {},
   "source": [
    "## 7) What is the amount of variance explained in your model?"
   ]
  },
  {
   "cell_type": "code",
   "execution_count": 17,
   "id": "b1583804",
   "metadata": {},
   "outputs": [
    {
     "name": "stdout",
     "output_type": "stream",
     "text": [
      "The variance explained by our model is 0.457\n"
     ]
    }
   ],
   "source": [
    "print(f\"The variance explained by our model is {round(r2_score(y, df.yhat),3)}\")"
   ]
  },
  {
   "cell_type": "markdown",
   "id": "81465d65",
   "metadata": {},
   "source": [
    "## 8) Is your model better than the baseline model?\n"
   ]
  },
  {
   "cell_type": "markdown",
   "id": "ff297840",
   "metadata": {},
   "source": [
    "Yes"
   ]
  },
  {
   "cell_type": "markdown",
   "id": "2fe38546",
   "metadata": {},
   "source": [
    "## 9) "
   ]
  },
  {
   "cell_type": "code",
   "execution_count": 48,
   "id": "eb7ea78f",
   "metadata": {},
   "outputs": [
    {
     "data": {
      "text/html": [
       "<div>\n",
       "<style scoped>\n",
       "    .dataframe tbody tr th:only-of-type {\n",
       "        vertical-align: middle;\n",
       "    }\n",
       "\n",
       "    .dataframe tbody tr th {\n",
       "        vertical-align: top;\n",
       "    }\n",
       "\n",
       "    .dataframe thead th {\n",
       "        text-align: right;\n",
       "    }\n",
       "</style>\n",
       "<table border=\"1\" class=\"dataframe\">\n",
       "  <thead>\n",
       "    <tr style=\"text-align: right;\">\n",
       "      <th></th>\n",
       "      <th>Model Reggression Errors</th>\n",
       "    </tr>\n",
       "  </thead>\n",
       "  <tbody>\n",
       "    <tr>\n",
       "      <th>SSE</th>\n",
       "      <td>252.79</td>\n",
       "    </tr>\n",
       "    <tr>\n",
       "      <th>ESS</th>\n",
       "      <td>212.42</td>\n",
       "    </tr>\n",
       "    <tr>\n",
       "      <th>TSS</th>\n",
       "      <td>465.21</td>\n",
       "    </tr>\n",
       "    <tr>\n",
       "      <th>MSE</th>\n",
       "      <td>1.04</td>\n",
       "    </tr>\n",
       "    <tr>\n",
       "      <th>RMSE</th>\n",
       "      <td>1.02</td>\n",
       "    </tr>\n",
       "  </tbody>\n",
       "</table>\n",
       "</div>"
      ],
      "text/plain": [
       "      Model Reggression Errors\n",
       "SSE                     252.79\n",
       "ESS                     212.42\n",
       "TSS                     465.21\n",
       "MSE                       1.04\n",
       "RMSE                      1.02"
      ]
     },
     "execution_count": 48,
     "metadata": {},
     "output_type": "execute_result"
    }
   ],
   "source": [
    "import sklearn.metrics\n",
    "from math import sqrt\n",
    "residuals = df.yhat - df.tip\n",
    "residuals_squared = sum(residuals**2)\n",
    "SSE = residuals_squared\n",
    "\n",
    "ESS = sum((df.yhat - df.tip.mean())**2)\n",
    "\n",
    "TSS = ESS + SSE\n",
    "\n",
    "MSE = mean_squared_error(df.tip,df.yhat)\n",
    "\n",
    "RMSE = mean_squared_error(df.tip, df.yhat, squared = False)\n",
    "\n",
    "d =  {'SSE': [round(SSE,2)],\n",
    "      'ESS': [round(ESS,2)],\n",
    "      'TSS': [round(TSS,2)],\n",
    "      'MSE': [round(MSE,2)],\n",
    "      'RMSE': [round(RMSE,2)]}\n",
    "errors_df=pd.DataFrame(d,index=['Model Reggression Errors'])\n",
    "errors_df.T"
   ]
  },
  {
   "cell_type": "code",
   "execution_count": 51,
   "id": "32dd1358",
   "metadata": {},
   "outputs": [],
   "source": [
    "def regression_errors(y, yhat):\n",
    "    residuals = yhat - y\n",
    "    residuals_squared = sum(residuals**2)\n",
    "    SSE = residuals_squared\n",
    "    \n",
    "    \n",
    "    ESS = sum((yhat - y.mean())**2)\n",
    "    \n",
    "    \n",
    "    TSS = ESS + SSE\n",
    "    \n",
    "    \n",
    "    MSE = sklearn.metrics.mean_squared_error(y,yhat)\n",
    "    \n",
    "    \n",
    "    RMSE = sqrt(sklearn.metrics.mean_squared_error(y,yhat))\n",
    "    \n",
    "    d =  {'SSE': [round(SSE,2)],\n",
    "      'ESS': [round(ESS,2)],\n",
    "      'TSS': [round(TSS,2)],\n",
    "      'MSE': [round(MSE,2)],\n",
    "      'RMSE': [round(RMSE,2)]}\n",
    "    errors_df=pd.DataFrame(d,index=['Model Reggression Errors'])\n",
    "    return errors_df.T\n",
    "    "
   ]
  },
  {
   "cell_type": "code",
   "execution_count": 52,
   "id": "874dc92f",
   "metadata": {},
   "outputs": [
    {
     "data": {
      "text/html": [
       "<div>\n",
       "<style scoped>\n",
       "    .dataframe tbody tr th:only-of-type {\n",
       "        vertical-align: middle;\n",
       "    }\n",
       "\n",
       "    .dataframe tbody tr th {\n",
       "        vertical-align: top;\n",
       "    }\n",
       "\n",
       "    .dataframe thead th {\n",
       "        text-align: right;\n",
       "    }\n",
       "</style>\n",
       "<table border=\"1\" class=\"dataframe\">\n",
       "  <thead>\n",
       "    <tr style=\"text-align: right;\">\n",
       "      <th></th>\n",
       "      <th>Model Reggression Errors</th>\n",
       "    </tr>\n",
       "  </thead>\n",
       "  <tbody>\n",
       "    <tr>\n",
       "      <th>SSE</th>\n",
       "      <td>252.79</td>\n",
       "    </tr>\n",
       "    <tr>\n",
       "      <th>ESS</th>\n",
       "      <td>212.42</td>\n",
       "    </tr>\n",
       "    <tr>\n",
       "      <th>TSS</th>\n",
       "      <td>465.21</td>\n",
       "    </tr>\n",
       "    <tr>\n",
       "      <th>MSE</th>\n",
       "      <td>1.04</td>\n",
       "    </tr>\n",
       "    <tr>\n",
       "      <th>RMSE</th>\n",
       "      <td>1.02</td>\n",
       "    </tr>\n",
       "  </tbody>\n",
       "</table>\n",
       "</div>"
      ],
      "text/plain": [
       "      Model Reggression Errors\n",
       "SSE                     252.79\n",
       "ESS                     212.42\n",
       "TSS                     465.21\n",
       "MSE                       1.04\n",
       "RMSE                      1.02"
      ]
     },
     "execution_count": 52,
     "metadata": {},
     "output_type": "execute_result"
    }
   ],
   "source": [
    "regression_errors(y, df.yhat)"
   ]
  },
  {
   "cell_type": "code",
   "execution_count": 53,
   "id": "690b94c2",
   "metadata": {},
   "outputs": [],
   "source": [
    "def baseline_mean_errors(y):\n",
    "    baseline = y.mean()\n",
    "    residuals = baseline - y\n",
    "    residuals_squared = sum(residuals**2)\n",
    "    \n",
    "    SSE = residuals_squared\n",
    "    \n",
    "    MSE = SSE/len(y)\n",
    "    \n",
    "    RMSE = sqrt(MSE)\n",
    "    \n",
    "    d =  {'SSE': [round(SSE,2)],\n",
    "      'MSE': [round(MSE,2)],\n",
    "      'RMSE': [round(RMSE,2)]}\n",
    "    \n",
    "    baseline_errors_df=pd.DataFrame(d,index=['Baseline Reggression Errors'])\n",
    "    return baseline_errors_df.T"
   ]
  },
  {
   "cell_type": "code",
   "execution_count": 54,
   "id": "35aa2d94",
   "metadata": {},
   "outputs": [
    {
     "data": {
      "text/html": [
       "<div>\n",
       "<style scoped>\n",
       "    .dataframe tbody tr th:only-of-type {\n",
       "        vertical-align: middle;\n",
       "    }\n",
       "\n",
       "    .dataframe tbody tr th {\n",
       "        vertical-align: top;\n",
       "    }\n",
       "\n",
       "    .dataframe thead th {\n",
       "        text-align: right;\n",
       "    }\n",
       "</style>\n",
       "<table border=\"1\" class=\"dataframe\">\n",
       "  <thead>\n",
       "    <tr style=\"text-align: right;\">\n",
       "      <th></th>\n",
       "      <th>Baseline Reggression Errors</th>\n",
       "    </tr>\n",
       "  </thead>\n",
       "  <tbody>\n",
       "    <tr>\n",
       "      <th>SSE</th>\n",
       "      <td>465.21</td>\n",
       "    </tr>\n",
       "    <tr>\n",
       "      <th>MSE</th>\n",
       "      <td>1.91</td>\n",
       "    </tr>\n",
       "    <tr>\n",
       "      <th>RMSE</th>\n",
       "      <td>1.38</td>\n",
       "    </tr>\n",
       "  </tbody>\n",
       "</table>\n",
       "</div>"
      ],
      "text/plain": [
       "      Baseline Reggression Errors\n",
       "SSE                        465.21\n",
       "MSE                          1.91\n",
       "RMSE                         1.38"
      ]
     },
     "execution_count": 54,
     "metadata": {},
     "output_type": "execute_result"
    }
   ],
   "source": [
    "baseline_mean_errors(df.tip)"
   ]
  },
  {
   "cell_type": "code",
   "execution_count": null,
   "id": "b9df832f",
   "metadata": {},
   "outputs": [],
   "source": [
    "import pandas as pd\n",
    "import numpy as np\n",
    "\n",
    "import seaborn as sns\n",
    "import matplotlib.pyplot as plt\n",
    "sns.set_theme(style=\"dark\")\n",
    "\n",
    "from sklearn.linear_model import LinearRegression\n",
    "import sklearn.metrics\n",
    "\n",
    "\n",
    "def regression_errors(y, yhat):\n",
    "    residuals = yhat - y\n",
    "    residuals_squared = sum(residuals**2)\n",
    "    SSE = residuals_squared\n",
    "    \n",
    "    \n",
    "    ESS = sum((yhat - y.mean())**2)\n",
    "    \n",
    "    \n",
    "    TSS = ESS + SSE\n",
    "    \n",
    "    \n",
    "    MSE = sklearn.metrics.mean_squared_error(y,yhat)\n",
    "    \n",
    "    \n",
    "    RMSE = sqrt(sklearn.metrics.mean_squared_error(y,yhat))\n",
    "    \n",
    "    d =  {'SSE': [round(SSE,2)],\n",
    "      'ESS': [round(ESS,2)],\n",
    "      'TSS': [round(TSS,2)],\n",
    "      'MSE': [round(MSE,2)],\n",
    "      'RMSE': [round(RMSE,2)]}\n",
    "    errors_df=pd.DataFrame(d,index=['Model Reggression Errors'])\n",
    "    return errors_df.T\n",
    "\n",
    "def baseline_mean_errors(y):\n",
    "    baseline = y.mean()\n",
    "    residuals = baseline - y\n",
    "    residuals_squared = sum(residuals**2)\n",
    "    \n",
    "    SSE = residuals_squared\n",
    "    \n",
    "    MSE = SSE/len(y)\n",
    "    \n",
    "    RMSE = sqrt(MSE)\n",
    "    \n",
    "    d =  {'SSE': [round(SSE,2)],\n",
    "      'MSE': [round(MSE,2)],\n",
    "      'RMSE': [round(RMSE,2)]}\n",
    "    \n",
    "    baseline_errors_df=pd.DataFrame(d,index=['Baseline Reggression Errors'])\n",
    "    return baseline_errors_df.T\n",
    "    \n",
    "\n",
    "\n",
    "def better_than_baseline(y,yhat):\n",
    "    baseline = y.mean()\n",
    "    residuals_baseline = baseline - y\n",
    "    residuals_squared_baseline = sum(residuals_baseline**2)\n",
    "    SSE_baseline = residuals_squared_baseline\n",
    "    \n",
    "    MSE_baseline = SSE_baseline/len(y)\n",
    "    \n",
    "    RMSE_baseline = sqrt(MSE_baseline)\n",
    "    \n",
    "    residuals = yhat - y\n",
    "    residuals_squared = sum(residuals**2)\n",
    "    SSE = residuals_squared\n",
    "    \n",
    "    MSE = sklearn.metrics.mean_squared_error(y,yhat)\n",
    "    \n",
    "    RMSE = sqrt(sklearn.metrics.mean_squared_error(y,yhat))\n",
    "    \n",
    "    if RMSE < RMSE_baseline:\n",
    "        return True\n",
    "    else: \n",
    "        return False"
   ]
  }
 ],
 "metadata": {
  "kernelspec": {
   "display_name": "Python 3",
   "language": "python",
   "name": "python3"
  },
  "language_info": {
   "codemirror_mode": {
    "name": "ipython",
    "version": 3
   },
   "file_extension": ".py",
   "mimetype": "text/x-python",
   "name": "python",
   "nbconvert_exporter": "python",
   "pygments_lexer": "ipython3",
   "version": "3.8.8"
  }
 },
 "nbformat": 4,
 "nbformat_minor": 5
}
